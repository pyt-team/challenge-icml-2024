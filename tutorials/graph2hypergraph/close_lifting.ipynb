{
 "cells": [
  {
   "cell_type": "markdown",
   "metadata": {},
   "source": [
    "# Protein Close Residues Lifting (Graph to Hypergraph)"
   ]
  },
  {
   "cell_type": "markdown",
   "metadata": {},
   "source": [
    "***\n",
    "This notebook imports UniProt protein data and creates a lifting from the graph of the protein to an hypergraph.\n",
    "Then, a neural network is run using the loaded data.\n",
    "\n",
    "The UniProt dataset is a custom dataset that is created by fetching data from the UniProt API.\n",
    "The dataset is created by fetching a list of proteins based on a query and then fetching the structure of each protein using the AlphaFold API. The dataset is then created by creating a graph for each protein where the nodes are the residues and edges are the connections between residues. These connections are usually done by the closeness of the residues. In this example, we connect the residues in two ways, representing the data into a graph:\n",
    "- **Sequentialwise**: Connecting residues that appear in a sequential order (one after another). This approach is based on the presence of peptide bonds, which link the amino acids in a protein chain in a specific sequence.\n",
    "- **Closewise**: Connecting residues that are close to each other (under than a *threshold*) and the direction between CarbonAlpha (CA) and CarbonBeta (CB) atoms of each residue are less than 90 degrees between different residues. This approach ensures that residues are connected when they are in close proximity and have a similar orientation, indicating that their spatial arrangement and orientation are biologically appropriate (the residues are appropriated with a similar orientation).\n",
    "\n",
    "The target variable is the mass of the protein.\n",
    "\n",
    "This representation can be improved by lifting it to an hypergraph. \n",
    "As done in [Jiang et al. (2021)](https://www.nature.com/articles/s41524-021-00493-w), we will create an hypergraph by grouping the connected residues that are close to each other (less than a parameter).\n",
    "\n",
    "Under this submission the following steps are done:\n",
    "\n",
    "- [Loading the dataset](#loading-the-dataset) loads the config files for loading UniProt dataset and a creating a graph connecting the atoms as mentioned above.\n",
    "- [Loading and applying the lifting](#loading-and-applying-the-lifting) done by creating a close residue lifting, computing the distance between the connected residues and grouping them when are under a threshold. These residues will be connected by an hyperedge inside an hypergraph.\n",
    "- [Create and run a simplicial nn model](#create-and-run-a-simplicial-nn-model) simply runs a forward pass of the model to check that everything is working as expected.\n",
    "\n",
    "***\n",
    "***\n",
    "\n",
    "Note that for simplicity the notebook is setup to use a simple graph. However, there is a set of available datasets that you can play with.\n",
    "\n",
    "To switch to one of the available datasets, simply change the *dataset_name* variable in [Dataset config](#dataset-config) to one of the following names:\n",
    "\n",
    "* cocitation_cora\n",
    "* cocitation_citeseer\n",
    "* cocitation_pubmed\n",
    "* MUTAG\n",
    "* NCI1\n",
    "* NCI109\n",
    "* PROTEINS_TU\n",
    "* AQSOL\n",
    "* ZINC\n",
    "* UniProt\n",
    "\n",
    "With this implementation, also **UniProt** is available.\n",
    "***"
   ]
  },
  {
   "cell_type": "markdown",
   "metadata": {},
   "source": [
    "### Imports and utilities"
   ]
  },
  {
   "cell_type": "code",
   "execution_count": 61,
   "metadata": {},
   "outputs": [
    {
     "name": "stdout",
     "output_type": "stream",
     "text": [
      "The autoreload extension is already loaded. To reload it, use:\n",
      "  %reload_ext autoreload\n"
     ]
    }
   ],
   "source": [
    "# With this cell any imported module is reloaded before each cell execution\n",
    "%load_ext autoreload\n",
    "%autoreload 2\n",
    "from modules.data.load.loaders import GraphLoader\n",
    "from modules.data.preprocess.preprocessor import PreProcessor\n",
    "from modules.utils.utils import (\n",
    "    describe_data,\n",
    "    load_dataset_config,\n",
    "    load_model_config,\n",
    "    load_transform_config,\n",
    ")"
   ]
  },
  {
   "cell_type": "markdown",
   "metadata": {},
   "source": [
    "## Loading the dataset"
   ]
  },
  {
   "cell_type": "markdown",
   "metadata": {},
   "source": [
    "Here we just need to specify the name of the available dataset that we want to load, in this case, UniProt dataset. First, the dataset config is read from the corresponding yaml file (located at `/configs/datasets/` directory), and then the data is loaded via the implemented `Loaders`.\n",
    "\n",
    "In the dataset, different parameters are specified to load the data from the API, such as the number of samples to load (*limit*), the number of residues per protein (query: length),...\n",
    "\n",
    "Moreover, there is the *threshold* parameter that is used to group residues that are close to each other. This parameter is used to create the initial graph.\n"
   ]
  },
  {
   "cell_type": "code",
   "execution_count": 62,
   "metadata": {},
   "outputs": [
    {
     "name": "stdout",
     "output_type": "stream",
     "text": [
      "\n",
      "Dataset configuration for UniProt:\n",
      "\n",
      "{'data_domain': 'graph',\n",
      " 'data_type': 'UniProt',\n",
      " 'data_name': 'UniProt',\n",
      " 'data_dir': 'datasets/graph/UniProt',\n",
      " 'query': 'length:[95 TO 155]',\n",
      " 'format': 'tsv',\n",
      " 'fields': 'accession,length',\n",
      " 'size': 100,\n",
      " 'threshold': 6.0,\n",
      " 'num_features': 20,\n",
      " 'num_classes': 1,\n",
      " 'task': 'regression',\n",
      " 'loss_type': 'mse',\n",
      " 'monitor_metric': 'mae',\n",
      " 'task_level': 'graph'}\n"
     ]
    }
   ],
   "source": [
    "dataset_name = \"UniProt\"\n",
    "dataset_config = load_dataset_config(dataset_name)\n",
    "loader = GraphLoader(dataset_config)"
   ]
  },
  {
   "cell_type": "markdown",
   "metadata": {},
   "source": [
    "We can then access to the data through the `load()`method. "
   ]
  },
  {
   "cell_type": "code",
   "execution_count": 75,
   "metadata": {},
   "outputs": [
    {
     "name": "stdout",
     "output_type": "stream",
     "text": [
      "PDB file for P02776 already exists.\n",
      "PDB file for O14960 already exists.\n",
      "PDB file for A8MQ03 already exists.\n",
      "PDB file for O43914 already exists.\n",
      "PDB file for Q16143 already exists.\n",
      "PDB file for P61956 already exists.\n",
      "PDB file for P61088 already exists.\n",
      "PDB file for A6NNB3 already exists.\n",
      "PDB file for P26885 already exists.\n",
      "PDB file for P0DPB6 already exists.\n",
      "PDB file for A2RU14 already exists.\n",
      "PDB file for P55854 already exists.\n",
      "PDB file for P80098 already exists.\n",
      "PDB file for O15116 already exists.\n",
      "PDB file for P0DI82 already exists.\n",
      "PDB file for A6NFY7 already exists.\n",
      "PDB file for P49901 already exists.\n",
      "PDB file for P01308 already exists.\n",
      "PDB file for Q16718 already exists.\n",
      "PDB file for P0C5Z0 already exists.\n",
      "PDB file for P26447 already exists.\n",
      "PDB file for P27482 already exists.\n",
      "PDB file for P62314 already exists.\n",
      "PDB file for P99999 already exists.\n",
      "PDB file for P23083 already exists.\n",
      "PDB file for P04080 already exists.\n",
      "PDB file for Q15726 already exists.\n",
      "PDB file for O00453 already exists.\n",
      "PDB file for O15511 already exists.\n",
      "PDB file for P15090 already exists.\n",
      "PDB file for P0DP58 already exists.\n",
      "PDB file for O95139 already exists.\n",
      "PDB file for P01825 already exists.\n",
      "PDB file for P62266 already exists.\n",
      "PDB file for P09912 already exists.\n",
      "PDB file for O95990 already exists.\n",
      "PDB file for P61970 already exists.\n",
      "PDB file for P19875 already exists.\n",
      "PDB file for P31949 already exists.\n",
      "PDB file for P63172 already exists.\n",
      "PDB file for Q0D2K3 already exists.\n",
      "PDB file for P32320 already exists.\n",
      "PDB file for P39019 already exists.\n",
      "PDB file for P68036 already exists.\n",
      "PDB file for P83876 already exists.\n",
      "PDB file for O14519 already exists.\n",
      "PDB file for P07737 already exists.\n",
      "PDB file for P56851 already exists.\n",
      "PDB file for P84243 already exists.\n",
      "PDB file for O00422 already exists.\n",
      "PDB file for P13164 already exists.\n",
      "PDB file for Q02747 already exists.\n",
      "PDB file for Q13021 already exists.\n",
      "PDB file for P0C0S8 already exists.\n",
      "PDB file for P49450 already exists.\n",
      "PDB file for O14907 already exists.\n",
      "PDB file for O60814 already exists.\n",
      "PDB file for P58876 already exists.\n",
      "PDB file for P01270 already exists.\n",
      "PDB file for O60519 already exists.\n",
      "PDB file for Q15543 already exists.\n",
      "PDB file for P06899 already exists.\n",
      "PDB file for O75379 already exists.\n",
      "PDB file for P08700 already exists.\n",
      "PDB file for O14933 already exists.\n",
      "PDB file for P01615 already exists.\n",
      "PDB file for P33778 already exists.\n",
      "PDB file for Q02575 already exists.\n",
      "PDB file for P29034 already exists.\n",
      "PDB file for P61604 already exists.\n",
      "PDB file for P10620 already exists.\n",
      "PDB file for P52926 already exists.\n",
      "PDB file for O95298 already exists.\n",
      "PDB file for P17096 already exists.\n",
      "PDB file for P14174 already exists.\n",
      "PDB file for P0DI81 already exists.\n",
      "PDB file for P07492 already exists.\n",
      "PDB file for Q16568 already exists.\n",
      "PDB file for C9JLW8 already exists.\n",
      "PDB file for P0C7P0 already exists.\n",
      "PDB file for P61927 already exists.\n",
      "PDB file for P01597 already exists.\n",
      "PDB file for P27449 already exists.\n",
      "PDB file for P01764 already exists.\n",
      "PDB file for P06454 already exists.\n",
      "PDB file for O15540 already exists.\n",
      "PDB file for P55000 already exists.\n",
      "PDB file for P05386 already exists.\n",
      "PDB file for O95670 already exists.\n",
      "PDB file for P62310 already exists.\n",
      "PDB file for Q15836 already exists.\n",
      "PDB file for P53567 already exists.\n",
      "PDB file for O75956 already exists.\n",
      "PDB file for O95777 already exists.\n",
      "PDB file for P09683 already exists.\n",
      "PDB file for P62277 already exists.\n",
      "PDB file for Q03403 already exists.\n",
      "PDB file for P57105 already exists.\n",
      "PDB file for P82932 already exists.\n",
      "PDB file for O95415 already exists.\n",
      "PDB file for P02776 already exists.\n",
      "PDB file for O14960 already exists.\n",
      "PDB file for A8MQ03 already exists.\n",
      "PDB file for O43914 already exists.\n",
      "PDB file for Q16143 already exists.\n",
      "PDB file for P61956 already exists.\n",
      "PDB file for P61088 already exists.\n",
      "PDB file for A6NNB3 already exists.\n",
      "PDB file for P26885 already exists.\n",
      "PDB file for P0DPB6 already exists.\n",
      "PDB file for A2RU14 already exists.\n",
      "PDB file for P55854 already exists.\n",
      "PDB file for P80098 already exists.\n",
      "PDB file for O15116 already exists.\n",
      "PDB file for P0DI82 already exists.\n",
      "PDB file for A6NFY7 already exists.\n",
      "PDB file for P49901 already exists.\n",
      "PDB file for P01308 already exists.\n",
      "PDB file for Q16718 already exists.\n",
      "PDB file for P0C5Z0 already exists.\n",
      "PDB file for P26447 already exists.\n",
      "PDB file for P27482 already exists.\n",
      "PDB file for P62314 already exists.\n",
      "PDB file for P99999 already exists.\n",
      "PDB file for P23083 already exists.\n",
      "PDB file for P04080 already exists.\n",
      "PDB file for Q15726 already exists.\n",
      "PDB file for O00453 already exists.\n",
      "PDB file for O15511 already exists.\n",
      "PDB file for P15090 already exists.\n",
      "PDB file for P0DP58 already exists.\n",
      "PDB file for O95139 already exists.\n",
      "PDB file for P01825 already exists.\n",
      "PDB file for P62266 already exists.\n",
      "PDB file for P09912 already exists.\n",
      "PDB file for O95990 already exists.\n",
      "PDB file for P61970 already exists.\n",
      "PDB file for P19875 already exists.\n",
      "PDB file for P31949 already exists.\n",
      "PDB file for P63172 already exists.\n",
      "PDB file for Q0D2K3 already exists.\n",
      "PDB file for P32320 already exists.\n",
      "PDB file for P39019 already exists.\n",
      "PDB file for P68036 already exists.\n",
      "PDB file for P83876 already exists.\n",
      "PDB file for O14519 already exists.\n",
      "PDB file for P07737 already exists.\n",
      "PDB file for P56851 already exists.\n",
      "PDB file for P84243 already exists.\n",
      "PDB file for O00422 already exists.\n",
      "PDB file for P13164 already exists.\n",
      "PDB file for Q02747 already exists.\n",
      "PDB file for Q13021 already exists.\n",
      "PDB file for P0C0S8 already exists.\n",
      "PDB file for P49450 already exists.\n",
      "PDB file for O14907 already exists.\n",
      "PDB file for O60814 already exists.\n",
      "PDB file for P58876 already exists.\n",
      "PDB file for P01270 already exists.\n",
      "PDB file for O60519 already exists.\n",
      "PDB file for Q15543 already exists.\n",
      "PDB file for P06899 already exists.\n",
      "PDB file for O75379 already exists.\n",
      "PDB file for P08700 already exists.\n",
      "PDB file for O14933 already exists.\n",
      "PDB file for P01615 already exists.\n",
      "PDB file for P33778 already exists.\n",
      "PDB file for Q02575 already exists.\n",
      "PDB file for P29034 already exists.\n",
      "PDB file for P61604 already exists.\n",
      "PDB file for P10620 already exists.\n",
      "PDB file for P52926 already exists.\n",
      "PDB file for O95298 already exists.\n",
      "PDB file for P17096 already exists.\n",
      "PDB file for P14174 already exists.\n",
      "PDB file for P0DI81 already exists.\n",
      "PDB file for P07492 already exists.\n",
      "PDB file for Q16568 already exists.\n",
      "PDB file for C9JLW8 already exists.\n",
      "PDB file for P0C7P0 already exists.\n",
      "PDB file for P61927 already exists.\n",
      "PDB file for P01597 already exists.\n",
      "PDB file for P27449 already exists.\n",
      "PDB file for P01764 already exists.\n",
      "PDB file for P06454 already exists.\n",
      "PDB file for O15540 already exists.\n",
      "PDB file for P55000 already exists.\n",
      "PDB file for P05386 already exists.\n",
      "PDB file for O95670 already exists.\n",
      "PDB file for P62310 already exists.\n",
      "PDB file for Q15836 already exists.\n",
      "PDB file for P53567 already exists.\n",
      "PDB file for O75956 already exists.\n",
      "PDB file for O95777 already exists.\n",
      "PDB file for P09683 already exists.\n",
      "PDB file for P62277 already exists.\n",
      "PDB file for Q03403 already exists.\n",
      "PDB file for P57105 already exists.\n",
      "PDB file for P82932 already exists.\n",
      "PDB file for O95415 already exists.\n",
      "\n",
      "Dataset contains 17 samples.\n",
      "\n",
      "Providing more details about sample 0/17:\n",
      " - Graph with 50 vertices and 78 edges.\n",
      " - Features dimensions: [20, 2]\n",
      "tensor([[ 0,  1,  2,  2,  3,  3,  4,  4,  5,  5,  6,  6,  7,  7,  8,  8,  9,  9,\n",
      "         10, 11, 12, 13, 13, 13, 14, 14, 15, 16, 17, 17, 18, 19, 19, 19, 20, 20,\n",
      "         21, 21, 22, 22, 23, 23, 23, 24, 24, 24, 25, 26, 27, 27, 28, 29, 30, 31,\n",
      "         32, 33, 34, 35, 36, 37, 37, 37, 38, 39, 40, 41, 42, 43, 43, 43, 44, 44,\n",
      "         45, 45, 46, 46, 47, 48],\n",
      "        [ 1,  2,  3, 24,  4, 23,  5, 22,  6, 21,  7, 20,  8, 19,  9, 18, 10, 17,\n",
      "         11, 12, 13, 14, 15, 16, 15, 17, 16, 17, 18, 38, 19, 20, 36, 37, 21, 35,\n",
      "         22, 34, 23, 33, 24, 31, 32, 25, 28, 30, 26, 27, 28, 29, 29, 30, 31, 32,\n",
      "         33, 34, 35, 36, 37, 38, 39, 40, 39, 40, 41, 42, 43, 44, 45, 46, 45, 47,\n",
      "         46, 48, 47, 49, 48, 49]])\n",
      " - There are 0 isolated nodes.\n",
      "\n"
     ]
    }
   ],
   "source": [
    "dataset = loader.load()\n",
    "describe_data(dataset)"
   ]
  },
  {
   "cell_type": "markdown",
   "metadata": {},
   "source": [
    "## Loading and Applying the Lifting"
   ]
  },
  {
   "cell_type": "markdown",
   "metadata": {},
   "source": [
    "In this section we will instantiate the lifting we want to apply to the data. \n",
    "\n",
    "A **close-based lifting** is created by computing the distance between the connected residues and grouping them when are under a threshold. These residues will be connected by an hyperedge inside an hypergraph.\n"
   ]
  },
  {
   "cell_type": "code",
   "execution_count": 77,
   "metadata": {},
   "outputs": [
    {
     "name": "stdout",
     "output_type": "stream",
     "text": [
      "\n",
      "Transform configuration for graph2hypergraph/close_lifting:\n",
      "\n",
      "{'transform_type': 'lifting',\n",
      " 'transform_name': 'HypergraphCloseLifting',\n",
      " 'feature_lifting': 'ProjectionSum',\n",
      " 'distance': 6.0}\n"
     ]
    }
   ],
   "source": [
    "# Define transformation type and id\n",
    "transform_type = \"liftings\"\n",
    "# If the transform is a topological lifting, it should include both the type of the lifting and the identifier\n",
    "transform_id = \"graph2hypergraph/close_lifting\"\n",
    "\n",
    "# Read yaml file\n",
    "transform_config = {\n",
    "    \"lifting\": load_transform_config(transform_type, transform_id)\n",
    "    # other transforms (e.g. data manipulations, feature liftings) can be added here\n",
    "}"
   ]
  },
  {
   "cell_type": "markdown",
   "metadata": {},
   "source": [
    "We than apply the transform via our `PreProcesor`:"
   ]
  },
  {
   "cell_type": "code",
   "execution_count": 78,
   "metadata": {},
   "outputs": [
    {
     "name": "stdout",
     "output_type": "stream",
     "text": [
      "Transform parameters are the same, using existing data_dir: /home/bmiquel/Documents/Projects/Topo/challenge-icml-2024/datasets/graph/UniProt/UniProt/lifting/2549867618\n",
      "\n",
      "Dataset only contains 1 sample:\n"
     ]
    },
    {
     "data": {
      "image/png": "[encoded data removed]",
      "text/plain": [
       "<Figure size 500x500 with 1 Axes>"
      ]
     },
     "metadata": {},
     "output_type": "display_data"
    },
    {
     "name": "stdout",
     "output_type": "stream",
     "text": [
      " - Hypergraph with 16 vertices and 40 hyperedges.\n",
      " - The nodes have feature dimensions 20.\n",
      " - The hyperedges have feature dimensions 20.\n",
      "\n"
     ]
    }
   ],
   "source": [
    "lifted_dataset = PreProcessor(dataset, transform_config, loader.data_dir)\n",
    "describe_data(lifted_dataset)"
   ]
  },
  {
   "cell_type": "markdown",
   "metadata": {},
   "source": [
    "## Create and Run a Cell NN Model"
   ]
  },
  {
   "cell_type": "markdown",
   "metadata": {},
   "source": [
    "In this section a simple model is created to test that the used lifting works as intended. In this case the model uses the `incidence_hyperedges` matrix so the lifting should make sure to add it to the data."
   ]
  },
  {
   "cell_type": "code",
   "execution_count": 79,
   "metadata": {},
   "outputs": [
    {
     "name": "stdout",
     "output_type": "stream",
     "text": [
      "\n",
      "Model configuration for hypergraph UNIGCN:\n",
      "\n",
      "{'in_channels': None,\n",
      " 'hidden_channels': 32,\n",
      " 'out_channels': None,\n",
      " 'n_layers': 2}\n"
     ]
    }
   ],
   "source": [
    "from modules.models.hypergraph.unigcn import UniGCNModel\n",
    "\n",
    "model_type = \"hypergraph\"\n",
    "model_id = \"unigcn\"\n",
    "model_config = load_model_config(model_type, model_id)\n",
    "\n",
    "model = UniGCNModel(model_config, dataset_config)"
   ]
  },
  {
   "cell_type": "code",
   "execution_count": 80,
   "metadata": {},
   "outputs": [],
   "source": [
    "y_hat = model(lifted_dataset.get(0))"
   ]
  },
  {
   "cell_type": "markdown",
   "metadata": {},
   "source": [
    "If everything is correct the cell above should execute without errors. "
   ]
  }
 ],
 "metadata": {
  "kernelspec": {
   "display_name": "venv_topox",
   "language": "python",
   "name": "python3"
  },
  "language_info": {
   "codemirror_mode": {
    "name": "ipython",
    "version": 3
   },
   "file_extension": ".py",
   "mimetype": "text/x-python",
   "name": "python",
   "nbconvert_exporter": "python",
   "pygments_lexer": "ipython3",
   "version": "3.11.3"
  }
 },
 "nbformat": 4,
 "nbformat_minor": 2
}
