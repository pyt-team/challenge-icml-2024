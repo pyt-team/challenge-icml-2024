{
 "cells": [
  {
   "cell_type": "markdown",
   "metadata": {},
   "source": [
    "# Point Cloud-to-Simplicial Feature-Based Vietoris Rips Complex Lifting Tutorial"
   ]
  },
  {
   "cell_type": "markdown",
   "metadata": {},
   "source": [
    "***\n",
    "This notebook shows how to import a dataset, with the desired lifting, and how to run a neural network using the loaded data.\n",
    "\n",
    "The notebook is divided into sections:\n",
    "\n",
    "- [Loading the dataset](#loading-the-dataset) loads the config files for the data and the desired tranformation, createsa a dataset object and visualizes it.\n",
    "- [Loading and applying the lifting](#loading-and-applying-the-lifting) defines a simple neural network to test that the lifting creates the expected incidence matrices.\n",
    "- [Create and run a simplicial nn model](#create-and-run-a-simplicial-nn-model) simply runs a forward pass of the model to check that everything is working as expected.\n",
    "\n",
    "***\n",
    "***\n",
    "\n",
    "There is a set of available datasets that you can play with from the gudhi python library.\n",
    "\n",
    "To switch to one of the available datasets, simply change the *dataset_name* variable in [Dataset config](#dataset-config) to one of the following names:\n",
    "\n",
    "* gudhi_sphere\n",
    "* gudhi_torus\n",
    "* gudhi_bunny\n",
    "* gudhi_spiral_2d\n",
    "* gudhi_daily_activities\n",
    "\n",
    "Please see the gudhi documentation [1] for a description of these datasets and the relevant config options. Note that *all datasets except gudhi_daily_activities lack features and targets*. You must instead provide a feature_generator target_generator in the PointCloudLoader\n",
    "\n",
    "[[1]](https://gudhi.inria.fr/python/latest/index.html) GUDHI Python documentation\n",
    "***"
   ]
  },
  {
   "cell_type": "markdown",
   "metadata": {},
   "source": [
    "### Imports and utilities"
   ]
  },
  {
   "cell_type": "code",
   "execution_count": 1,
   "metadata": {},
   "outputs": [],
   "source": [
    "# With this cell any imported module is reloaded before each cell execution\n",
    "%load_ext autoreload\n",
    "%autoreload 2\n",
    "from modules.data.load.loaders import PointCloudLoader\n",
    "from modules.data.preprocess.preprocessor import PreProcessor\n",
    "from modules.utils.utils import (\n",
    "    describe_data,\n",
    "    load_dataset_config,\n",
    "    load_model_config,\n",
    "    load_transform_config,\n",
    ")"
   ]
  },
  {
   "cell_type": "markdown",
   "metadata": {},
   "source": [
    "## Loading the Dataset"
   ]
  },
  {
   "cell_type": "markdown",
   "metadata": {},
   "source": [
    "Here we just need to spicify the name of the available dataset that we want to load. First, the dataset config is read from the corresponding yaml file (located at `/configs/datasets/` directory), and then the data is loaded via the implemented `Loaders`.\n"
   ]
  },
  {
   "cell_type": "code",
   "execution_count": 2,
   "metadata": {},
   "outputs": [
    {
     "name": "stdout",
     "output_type": "stream",
     "text": [
      "\n",
      "Dataset configuration for manual_points:\n",
      "\n",
      "{'data_domain': 'pointcloud',\n",
      " 'data_type': 'toy_dataset',\n",
      " 'data_name': 'manual_points',\n",
      " 'data_dir': 'datasets/pointcloud/toy_dataset',\n",
      " 'dim': 2,\n",
      " 'num_classes': 2,\n",
      " 'num_samples': 7,\n",
      " 'num_features': 2,\n",
      " 'task': 'classification',\n",
      " 'loss_type': 'cross_entropy'}\n"
     ]
    }
   ],
   "source": [
    "dataset_name = \"manual_points\"\n",
    "dataset_config = load_dataset_config(dataset_name)\n",
    "\n",
    "# Note that some point cloud datasets may not have features or targets\n",
    "# In this case you must provide the feature_generator and target_generator methods yourself!\n",
    "loader = PointCloudLoader(dataset_config)"
   ]
  },
  {
   "cell_type": "markdown",
   "metadata": {},
   "source": [
    "We can then access to the data through the `load()`method:"
   ]
  },
  {
   "cell_type": "code",
   "execution_count": 3,
   "metadata": {},
   "outputs": [
    {
     "name": "stdout",
     "output_type": "stream",
     "text": [
      "\n",
      "Dataset only contains 1 sample:\n"
     ]
    },
    {
     "data": {
      "image/png": "[encoded data removed]",
      "text/plain": [
       "<Figure size 800x800 with 1 Axes>"
      ]
     },
     "metadata": {},
     "output_type": "display_data"
    },
    {
     "name": "stdout",
     "output_type": "stream",
     "text": [
      " - Set with 7 points.\n",
      " - Features dimension: 2\n",
      "\n"
     ]
    }
   ],
   "source": [
    "dataset = loader.load()\n",
    "describe_data(dataset)"
   ]
  },
  {
   "cell_type": "markdown",
   "metadata": {},
   "source": [
    "## Loading and Applying the Lifting"
   ]
  },
  {
   "cell_type": "markdown",
   "metadata": {},
   "source": [
    "In this section we will instantiate the lifting we want to apply to the data. For this example the Vietoris-Rips (or Rips) complex lifting was chosen. It is generated in two steps - first pairwise distances between points are computed, and for any pair with distance $\\le d$, an edge is added. The simplicial complex is then the clique complex of this graph. \n",
    "\n",
    "Note that this implementation *includes features* in the pairwise distance. More precisely, the parameter `feature_percent` allows the user to adjust how much weight to give to feature differences in the overall distance. Currently the feature distance is simply the Euclidean distance between feature vectors, which is combined with the usual Euclidean distance to generate the final pairwise distances.\n",
    "\n",
    "This can be useful in cases where the features correspond to a *signal* on a surface. For example, temperature measurments on the surface of a human body. If your arms are by your side, a naïve point cloud complex might interpret the points in your hand as being very close to those of your torso. However, your hand is in fact quite far since the 'true' distance goes up your arm. The feature-based lifting may be able to distinguish this since the feature values are likely quite different, hence the points will not be connected in the lifting.\n",
    "\n",
    "The GUDHI library is used to compute the complex [1].\n",
    "\n",
    "---\n",
    "[[1]](https://gudhi.inria.fr/python/latest/rips_complex_user.htm) Gudhi Rips Complex User Manual\n",
    "\n",
    "---\n",
    "\n",
    "For simplicial complexes creating a lifting involves creating a `SimplicialComplex` object from topomodelx and adding simplices to it using the method `add_simplices_from`. The `SimplicialComplex` class then takes care of creating all the needed matrices.\n",
    "\n",
    "Similarly to before, we can specify the transformation we want to apply through its type and id --the correxponding config files located at `/configs/transforms`. \n",
    "\n",
    "Note that the *tranform_config* dictionary generated below can contain a sequence of tranforms if it is needed.\n",
    "\n",
    "This can also be used to explore liftings from one topological domain to another, for example using two liftings it is possible to achieve a sequence such as: graph -> simplicial complex -> hypergraph. "
   ]
  },
  {
   "cell_type": "code",
   "execution_count": 4,
   "metadata": {},
   "outputs": [
    {
     "name": "stdout",
     "output_type": "stream",
     "text": [
      "\n",
      "Transform configuration for pointcloud2simplicial/alpha_complex_lifting:\n",
      "\n",
      "{'transform_type': 'lifting',\n",
      " 'transform_name': 'AlphaComplexLifting',\n",
      " 'complex_dim': 3,\n",
      " 'alpha': 25.0,\n",
      " 'preserve_edge_attr': False,\n",
      " 'signed': True,\n",
      " 'feature_lifting': 'ProjectionSum'}\n"
     ]
    }
   ],
   "source": [
    "# Define transformation type and id\n",
    "transform_type = \"liftings\"\n",
    "# If the transform is a topological lifting, it should include both the type of the lifting and the identifier\n",
    "transform_id = \"pointcloud2simplicial/feature_rips_complex_lifting\"\n",
    "\n",
    "# Read yaml file\n",
    "transform_config = {\n",
    "    \"lifting\": load_transform_config(transform_type, transform_id)\n",
    "    # other transforms (e.g. data manipulations, feature liftings) can be added here\n",
    "}"
   ]
  },
  {
   "cell_type": "markdown",
   "metadata": {},
   "source": [
    "We than apply the transform via our `PreProcesor`:"
   ]
  },
  {
   "cell_type": "code",
   "execution_count": 5,
   "metadata": {},
   "outputs": [
    {
     "name": "stdout",
     "output_type": "stream",
     "text": [
      "Transform parameters are the same, using existing data_dir: /Users/tlong/Documents/code/challenge-icml-2024/datasets/pointcloud/toy_dataset/manual_points/lifting/3217688758\n",
      "\n",
      "Dataset only contains 1 sample:\n"
     ]
    },
    {
     "data": {
      "image/png": "[encoded data removed]",
      "text/plain": [
       "<Figure size 500x500 with 1 Axes>"
      ]
     },
     "metadata": {},
     "output_type": "display_data"
    },
    {
     "name": "stdout",
     "output_type": "stream",
     "text": [
      " - The complex has 7 0-cells.\n",
      " - The 0-cells have features dimension 2\n",
      " - The complex has 9 1-cells.\n",
      " - The 1-cells have features dimension 2\n",
      " - The complex has 3 2-cells.\n",
      " - The 2-cells have features dimension 2\n",
      "\n"
     ]
    }
   ],
   "source": [
    "lifted_dataset = PreProcessor(dataset, transform_config, loader.data_dir)\n",
    "describe_data(lifted_dataset)"
   ]
  },
  {
   "cell_type": "markdown",
   "metadata": {},
   "source": [
    "## Create and Run a Simplicial NN Model"
   ]
  },
  {
   "cell_type": "markdown",
   "metadata": {},
   "source": [
    "In this section a simple model is created to test that the used lifting works as intended. In this case the model uses the `up_laplacian_1` and the `down_laplacian_1` so the lifting should make sure to add them to the data."
   ]
  },
  {
   "cell_type": "code",
   "execution_count": 6,
   "metadata": {},
   "outputs": [
    {
     "name": "stdout",
     "output_type": "stream",
     "text": [
      "\n",
      "Model configuration for simplicial SAN:\n",
      "\n",
      "{'in_channels': None,\n",
      " 'hidden_channels': 32,\n",
      " 'out_channels': None,\n",
      " 'n_layers': 2,\n",
      " 'n_filters': 2,\n",
      " 'order_harmonic': 5,\n",
      " 'epsilon_harmonic': 0.1}\n"
     ]
    }
   ],
   "source": [
    "from modules.models.simplicial.san import SANModel\n",
    "\n",
    "model_type = \"simplicial\"\n",
    "model_id = \"san\"\n",
    "model_config = load_model_config(model_type, model_id)\n",
    "model = SANModel(model_config, dataset_config)"
   ]
  },
  {
   "cell_type": "code",
   "execution_count": 7,
   "metadata": {},
   "outputs": [],
   "source": [
    "y_hat = model(lifted_dataset.get(0))"
   ]
  },
  {
   "cell_type": "markdown",
   "metadata": {},
   "source": [
    "If everything is correct the cell above should execute without errors. "
   ]
  }
 ],
 "metadata": {
  "kernelspec": {
   "display_name": "Python 3.11.3 ('topox')",
   "language": "python",
   "name": "python3"
  },
  "language_info": {
   "codemirror_mode": {
    "name": "ipython",
    "version": 3
   },
   "file_extension": ".py",
   "mimetype": "text/x-python",
   "name": "python",
   "nbconvert_exporter": "python",
   "pygments_lexer": "ipython3",
   "version": "3.11.3"
  },
  "vscode": {
   "interpreter": {
    "hash": "5209ee787340d6caf238f8c0093dc78889cb331b3f459734c35c70f07b690b2a"
   }
  }
 },
 "nbformat": 4,
 "nbformat_minor": 2
}
